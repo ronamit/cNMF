{
 "cells": [
  {
   "cell_type": "code",
   "execution_count": 3,
   "id": "24c494cd",
   "metadata": {
    "pycharm": {
     "name": "#%%\n"
    }
   },
   "outputs": [],
   "source": [
    "%matplotlib inline\n",
    "%load_ext autoreload\n",
    "%autoreload 2\n",
    "\n",
    "import os\n",
    "import pandas as pd\n",
    "import numpy as np\n",
    "from scipy.io import mmread\n",
    "import scipy.sparse as sp\n",
    "import matplotlib.pyplot as plt\n",
    "from IPython.display import Image\n",
    "import scanpy as sc\n",
    "from cnmf import cNMF\n",
    "\n",
    "if not os.path.exists('example_PBMC'):\n",
    "    os.mkdir('example_PBMC')\n",
    "    \n",
    "np.random.seed(14)"
   ]
  },
  {
   "cell_type": "code",
   "execution_count": 4,
   "id": "7bd02a00",
   "metadata": {
    "pycharm": {
     "name": "#%%\n"
    }
   },
   "outputs": [
    {
     "data": {
      "text/plain": "AnnData object with n_obs × n_vars = 16291 × 1689"
     },
     "execution_count": 4,
     "metadata": {},
     "output_type": "execute_result"
    }
   ],
   "source": [
    "adata = sc.read('melanoma_16k_counts_recon2.h5ad')\n",
    "adata"
   ]
  },
  {
   "cell_type": "code",
   "execution_count": 5,
   "id": "455b757a",
   "metadata": {
    "pycharm": {
     "name": "#%%\n"
    }
   },
   "outputs": [],
   "source": [
    "sc.pp.filter_cells(adata, min_genes=100) # filter cells with fewer than 100 genes\n",
    "sc.pp.filter_cells(adata, min_counts=100)  # This is a weaker threshold than above. It is just to population the n_counts column in adata\n",
    "sc.pp.filter_genes(adata, min_cells=3) # filter genes detected in fewer than 3 cells"
   ]
  },
  {
   "cell_type": "code",
   "execution_count": 6,
   "id": "1b3bc113",
   "metadata": {
    "pycharm": {
     "name": "#%%\n"
    }
   },
   "outputs": [
    {
     "data": {
      "text/plain": "<Figure size 432x288 with 1 Axes>",
      "image/png": "[encoded data removed]"
     },
     "metadata": {
      "needs_background": "light"
     },
     "output_type": "display_data"
    }
   ],
   "source": [
    "## plot log10 # counts per cell\n",
    "plt.hist(np.log10(adata.obs['n_counts']), bins=100)\n",
    "_ = plt.xlabel('log10 Counts Per cell')\n",
    "_ = plt.ylabel('# Cells')"
   ]
  },
  {
   "cell_type": "code",
   "execution_count": 7,
   "id": "9e506b40",
   "metadata": {
    "pycharm": {
     "name": "#%%\n"
    }
   },
   "outputs": [
    {
     "data": {
      "text/plain": "AnnData object with n_obs × n_vars = 16240 × 1684\n    obs: 'n_genes', 'n_counts'\n    var: 'n_cells'"
     },
     "execution_count": 7,
     "metadata": {},
     "output_type": "execute_result"
    }
   ],
   "source": [
    "adata"
   ]
  },
  {
   "cell_type": "code",
   "execution_count": 8,
   "id": "d2716e33",
   "metadata": {
    "pycharm": {
     "name": "#%%\n"
    }
   },
   "outputs": [],
   "source": [
    "count_adat_fn = 'example_PBMC/counts.h5ad'\n",
    "sc.write(count_adat_fn, adata)"
   ]
  },
  {
   "cell_type": "code",
   "execution_count": 9,
   "id": "24e325d6",
   "metadata": {
    "pycharm": {
     "name": "#%%\n"
    }
   },
   "outputs": [],
   "source": [
    "## Commented out because it is slow\n",
    "\n",
    "count_txt_fn = 'example_PBMC/counts.tsv'\n",
    "#dense_data.to_csv(count_txt_fn, sep='\\t')"
   ]
  },
  {
   "cell_type": "code",
   "execution_count": 10,
   "id": "ee92bda0",
   "metadata": {
    "pycharm": {
     "name": "#%%\n"
    }
   },
   "outputs": [],
   "source": [
    "numiter=20 # Number of NMF replicates. Set this to a larger value ~200 for real data. We set this to a relatively low value here for illustration at a faster speed\n",
    "numhvgenes=2000 ## Number of over-dispersed genes to use for running the actual factorizations\n",
    "\n",
    "## Results will be saved to [output_directory]/[run_name] which in this example is example_PBMC/cNMF/pbmc_cNMF\n",
    "output_directory = 'example_PBMC/cNMF'\n",
    "if not os.path.exists(output_directory):\n",
    "    os.mkdir(output_directory)\n",
    "run_name = 'pbmc_cNMF'\n",
    "\n",
    "## Specify the Ks to use as a space separated list in this case \"5 6 7 8 9 10\"\n",
    "K = ' '.join([str(i) for i in range(5,11)])\n",
    "\n",
    "## To speed this up, you can run it for only K=7-8 with the option below\n",
    "#K = ' '.join([str(i) for i in range(7,9)])\n",
    "\n",
    "\n",
    "seed = 14 ## Specify a seed pseudorandom number generation for reproducibility\n",
    "\n",
    "## Path to the filtered counts dataset we output previously\n",
    "countfn = 'example_PBMC/counts.h5ad'"
   ]
  },
  {
   "cell_type": "code",
   "execution_count": 11,
   "id": "e1305d11",
   "metadata": {
    "pycharm": {
     "name": "#%%\n"
    }
   },
   "outputs": [],
   "source": [
    "## Initialize the cnmf object that will be used to run analyses\n",
    "cnmf_obj = cNMF(output_dir=output_directory, name=run_name)"
   ]
  },
  {
   "cell_type": "code",
   "execution_count": 12,
   "id": "329be40e",
   "metadata": {
    "pycharm": {
     "name": "#%%\n"
    }
   },
   "outputs": [],
   "source": [
    "## Prepare the data, I.e. subset to 2000 high-variance genes, and variance normalize\n",
    "cnmf_obj.prepare(counts_fn=countfn, components=np.arange(5,11), n_iter=20, seed=14, num_highvar_genes=2000)"
   ]
  },
  {
   "cell_type": "markdown",
   "source": [],
   "metadata": {
    "collapsed": false,
    "pycharm": {
     "name": "#%% md\n"
    }
   }
  },
  {
   "cell_type": "code",
   "execution_count": 13,
   "id": "d10be9eb",
   "metadata": {
    "scrolled": true,
    "pycharm": {
     "name": "#%%\n"
    }
   },
   "outputs": [
    {
     "name": "stdout",
     "output_type": "stream",
     "text": [
      "[Worker 0]. Starting task 0.\n",
      "[Worker 0]. Starting task 4.\n",
      "[Worker 0]. Starting task 8.\n",
      "[Worker 0]. Starting task 12.\n",
      "[Worker 0]. Starting task 16.\n",
      "[Worker 0]. Starting task 20.\n",
      "[Worker 0]. Starting task 24.\n",
      "[Worker 0]. Starting task 28.\n",
      "[Worker 0]. Starting task 32.\n",
      "[Worker 0]. Starting task 36.\n",
      "[Worker 0]. Starting task 40.\n",
      "[Worker 0]. Starting task 44.\n",
      "[Worker 0]. Starting task 48.\n",
      "[Worker 0]. Starting task 52.\n",
      "[Worker 0]. Starting task 56.\n",
      "[Worker 0]. Starting task 60.\n",
      "[Worker 0]. Starting task 64.\n",
      "[Worker 0]. Starting task 68.\n",
      "[Worker 0]. Starting task 72.\n",
      "[Worker 0]. Starting task 76.\n",
      "[Worker 0]. Starting task 80.\n",
      "[Worker 0]. Starting task 84.\n",
      "[Worker 0]. Starting task 88.\n",
      "[Worker 0]. Starting task 92.\n",
      "[Worker 0]. Starting task 96.\n",
      "[Worker 0]. Starting task 100.\n",
      "[Worker 0]. Starting task 104.\n",
      "[Worker 0]. Starting task 108.\n",
      "[Worker 0]. Starting task 112.\n",
      "[Worker 0]. Starting task 116.\n"
     ]
    }
   ],
   "source": [
    "## Specify that the jobs are being distributed over a single worker (total_workers=1) and then launch that worker\n",
    "cnmf_obj.factorize(worker_i=0, total_workers=4)"
   ]
  },
  {
   "cell_type": "code",
   "execution_count": 14,
   "id": "45f29e59",
   "metadata": {
    "pycharm": {
     "name": "#%%\n"
    }
   },
   "outputs": [
    {
     "name": "stdout",
     "output_type": "stream",
     "text": [
      "Combining factorizations for k=5.\n",
      "Combining factorizations for k=6.\n",
      "Combining factorizations for k=7.\n",
      "Combining factorizations for k=8.\n",
      "Combining factorizations for k=9.\n",
      "Combining factorizations for k=10.\n"
     ]
    }
   ],
   "source": [
    "cnmf_obj.combine()"
   ]
  },
  {
   "cell_type": "markdown",
   "source": [],
   "metadata": {
    "collapsed": false,
    "pycharm": {
     "name": "#%% md\n"
    }
   }
  },
  {
   "cell_type": "code",
   "execution_count": 15,
   "id": "9ca715ad",
   "metadata": {
    "pycharm": {
     "name": "#%%\n"
    }
   },
   "outputs": [
    {
     "data": {
      "text/plain": "<Figure size 432x288 with 2 Axes>",
      "image/png": "[encoded data removed]"
     },
     "metadata": {
      "needs_background": "light"
     },
     "output_type": "display_data"
    }
   ],
   "source": [
    "cnmf_obj.k_selection_plot(close_fig=False)"
   ]
  },
  {
   "cell_type": "code",
   "execution_count": 16,
   "id": "9eeca999",
   "metadata": {
    "pycharm": {
     "name": "#%%\n"
    }
   },
   "outputs": [
    {
     "name": "stdout",
     "output_type": "stream",
     "text": [
      "This saves the corresponding figure to the following file: example_PBMC/cNMF\\pbmc_cNMF\\pbmc_cNMF.k_selection.png\n"
     ]
    }
   ],
   "source": [
    "print('This saves the corresponding figure to the following file: %s' % cnmf_obj.paths['k_selection_plot'])"
   ]
  },
  {
   "cell_type": "code",
   "execution_count": 17,
   "id": "8cc925cb",
   "metadata": {
    "pycharm": {
     "name": "#%%\n"
    }
   },
   "outputs": [],
   "source": [
    "selected_K = 7\n",
    "density_threshold = 2.00"
   ]
  },
  {
   "cell_type": "code",
   "execution_count": 18,
   "id": "1f46ff0f",
   "metadata": {
    "pycharm": {
     "name": "#%%\n"
    }
   },
   "outputs": [
    {
     "data": {
      "text/plain": "AnnData object with n_obs × n_vars = 16240 × 1684\n    obs: 'n_genes', 'n_counts'\n    var: 'n_cells'"
     },
     "execution_count": 18,
     "metadata": {},
     "output_type": "execute_result"
    }
   ],
   "source": [
    "adata"
   ]
  }
 ],
 "metadata": {
  "kernelspec": {
   "display_name": "Python 3 (ipykernel)",
   "language": "python",
   "name": "python3"
  },
  "language_info": {
   "codemirror_mode": {
    "name": "ipython",
    "version": 3
   },
   "file_extension": ".py",
   "mimetype": "text/x-python",
   "name": "python",
   "nbconvert_exporter": "python",
   "pygments_lexer": "ipython3",
   "version": "3.7.12"
  }
 },
 "nbformat": 4,
 "nbformat_minor": 5
}